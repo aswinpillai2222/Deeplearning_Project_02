{
 "cells": [
  {
   "cell_type": "markdown",
   "metadata": {},
   "source": [
    "# Project 2: Implementing a Simple Convolutional Neural Network (CNN)\n",
    "\n",
    "## Introduction\n",
    "\n",
    "In this project, you will design, implement, and evaluate a simple Convolutional Neural Network (CNN) from scratch. This will involve building the entire pipeline, from data preprocessing to model training and evaluation.\n",
    "\n",
    "## Objectives\n",
    "\n",
    "1. Set up TensorFlow or PyTorch environments. You are free to choose your preferred DL platform.\n",
    "2. Use GPU for training.\n",
    "3. Create a data loader and implement data preprocessing where needed.\n",
    "4. Design a Convolutional Neural Network.\n",
    "5. Train and evaluate your model. Make sure to clearly show loss and accuracy values. Include visualizations too.\n",
    "6. Answer assessment questions.\n",
    "\n",
    "## Dataset\n",
    "\n",
    "You are free to choose any dataset for this project! Kaggle would be a good source to look for datasets. Below are some examples:\n",
    "- CIFAR-10: A dataset of 60,000 32x32 color images in 10 classes with 6,000 images per class.\n",
    "- MNIST: A dataset of 70,000 28x28 grayscale images of handwritten digits (0-9).\n",
    "- Fashion-MNIST: A dataset of 70,000 28x28 grayscale images of 10 different clothing caregories.\n"
   ]
  },
  {
   "cell_type": "code",
   "execution_count": 14,
   "metadata": {},
   "outputs": [],
   "source": [
    "import tensorflow as tf\n",
    "from tensorflow.keras import layers, models, optimizers\n",
    "import matplotlib.pyplot as plt\n",
    "import numpy as np\n",
    "from tensorflow.keras.preprocessing.image import ImageDataGenerator\n",
    "from tensorflow.keras.utils import to_categorical\n",
    "from tensorflow.keras.callbacks import TensorBoard"
   ]
  },
  {
   "cell_type": "code",
   "execution_count": 15,
   "metadata": {},
   "outputs": [],
   "source": [
    "# Load MNIST dataset\n",
    "(train_images, train_labels), (test_images, test_labels) = tf.keras.datasets.mnist.load_data()\n",
    "\n",
    "# Normalize the images to range [-1, 1]\n",
    "train_images = train_images.reshape(-1, 28, 28, 1).astype('float32') / 255.0\n",
    "test_images = test_images.reshape(-1, 28, 28, 1).astype('float32') / 255.0\n",
    "\n",
    "# Define the classes\n",
    "class_names = ['0', '1', '2', '3', '4', '5', '6', '7', '8', '9']"
   ]
  },
  {
   "cell_type": "code",
   "execution_count": 16,
   "metadata": {},
   "outputs": [],
   "source": [
    "# Define the data augmentation\n",
    "datagen = ImageDataGenerator(\n",
    "    width_shift_range=0.1,\n",
    "    height_shift_range=0.1,\n",
    "    brightness_range=[0.8, 1.2],\n",
    "    zoom_range=0.2\n",
    ")\n",
    "\n",
    "# Fit the data generator to the training data (not required for MNIST, but keeping for consistency)\n",
    "datagen.fit(train_images)"
   ]
  },
  {
   "cell_type": "code",
   "execution_count": 17,
   "metadata": {},
   "outputs": [],
   "source": [
    "# Define the CNN model\n",
    "model = models.Sequential([\n",
    "    layers.Conv2D(6, (5, 5), activation='relu', input_shape=(28, 28, 1)),  # Fixed input shape\n",
    "    layers.MaxPooling2D((2, 2)),\n",
    "    layers.Conv2D(16, (5, 5), activation='relu'),\n",
    "    layers.MaxPooling2D((2, 2)),\n",
    "    layers.Flatten(),\n",
    "    layers.Dense(120, activation='relu'),\n",
    "    layers.Dense(84, activation='relu'),\n",
    "    layers.Dense(10, activation='softmax')  # 10 output classes (0-9)\n",
    "])\n",
    "\n",
    "# Compile the model\n",
    "model.compile(optimizer=optimizers.SGD(learning_rate=0.001, momentum=0.9),\n",
    "              loss='sparse_categorical_crossentropy',  # Use categorical_crossentropy if one-hot encoding\n",
    "              metrics=['accuracy'])"
   ]
  },
  {
   "cell_type": "code",
   "execution_count": 19,
   "metadata": {},
   "outputs": [
    {
     "name": "stdout",
     "output_type": "stream",
     "text": [
      "Epoch 1/2\n",
      "   1/1875 [..............................] - ETA: 0s - loss: 54.3551 - accuracy: 0.0625WARNING:tensorflow:From S:\\Anaconda\\envs\\ml_lab1\\lib\\site-packages\\tensorflow\\python\\ops\\summary_ops_v2.py:1277: stop (from tensorflow.python.eager.profiler) is deprecated and will be removed after 2020-07-01.\n",
      "Instructions for updating:\n",
      "use `tf.profiler.experimental.stop` instead.\n",
      "   2/1875 [..............................] - ETA: 5:12 - loss: 38.3536 - accuracy: 0.0781WARNING:tensorflow:Callbacks method `on_train_batch_end` is slow compared to the batch time (batch time: 0.0323s vs `on_train_batch_end` time: 0.2886s). Check your callbacks.\n",
      "1875/1875 [==============================] - 25s 13ms/step - loss: 2.3451 - accuracy: 0.1114 - val_loss: 2.2984 - val_accuracy: 0.1135\n",
      "Epoch 2/2\n",
      "1875/1875 [==============================] - 27s 14ms/step - loss: 2.2611 - accuracy: 0.1843 - val_loss: 2.1712 - val_accuracy: 0.1864\n"
     ]
    }
   ],
   "source": [
    "# Convert labels to one-hot encoding (required for categorical_crossentropy)\n",
    "train_labels_one_hot = to_categorical(train_labels, 10)\n",
    "test_labels_one_hot = to_categorical(test_labels, 10)\n",
    "\n",
    "# Define TensorBoard callback\n",
    "tensorboard_callback = TensorBoard(log_dir=\"logs/mnist_experiment\")\n",
    "\n",
    "# Recompile the model with categorical_crossentropy\n",
    "model.compile(optimizer=tf.keras.optimizers.SGD(learning_rate=0.001, momentum=0.9),\n",
    "              loss='categorical_crossentropy',  # Change from sparse_categorical_crossentropy\n",
    "              metrics=['accuracy'])\n",
    "\n",
    "# Train the model\n",
    "history = model.fit(datagen.flow(train_images, train_labels_one_hot, batch_size=32),\n",
    "                    epochs=2,\n",
    "                    validation_data=(test_images, test_labels_one_hot),\n",
    "                    callbacks=[tensorboard_callback])"
   ]
  },
  {
   "cell_type": "code",
   "execution_count": 20,
   "metadata": {},
   "outputs": [
    {
     "name": "stdout",
     "output_type": "stream",
     "text": [
      "313/313 - 1s - loss: 2.1712 - accuracy: 0.1864\n",
      "Accuracy of the network on the 10,000 test images: 18.64%\n"
     ]
    }
   ],
   "source": [
    "# Ensure test labels are one-hot encoded\n",
    "test_loss, test_acc = model.evaluate(test_images, test_labels_one_hot, verbose=2)\n",
    "\n",
    "print(f'Accuracy of the network on the 10,000 test images: {test_acc * 100:.2f}%')"
   ]
  },
  {
   "cell_type": "code",
   "execution_count": 21,
   "metadata": {},
   "outputs": [
    {
     "data": {
      "image/png": "[encoded data removed]",
      "text/plain": [
       "<Figure size 640x480 with 1 Axes>"
      ]
     },
     "metadata": {},
     "output_type": "display_data"
    },
    {
     "data": {
      "image/png": "[encoded data removed]",
      "text/plain": [
       "<Figure size 640x480 with 1 Axes>"
      ]
     },
     "metadata": {},
     "output_type": "display_data"
    },
    {
     "data": {
      "image/png": "[encoded data removed]",
      "text/plain": [
       "<Figure size 640x480 with 1 Axes>"
      ]
     },
     "metadata": {},
     "output_type": "display_data"
    },
    {
     "data": {
      "image/png": "[encoded data removed]",
      "text/plain": [
       "<Figure size 640x480 with 1 Axes>"
      ]
     },
     "metadata": {},
     "output_type": "display_data"
    }
   ],
   "source": [
    "# Function to display an image\n",
    "def imshow(img, title=None):\n",
    "    img = np.squeeze(img)  # Remove extra channel dimension\n",
    "    plt.imshow(img, cmap='gray')  # Use grayscale colormap\n",
    "    if title is not None:\n",
    "        plt.title(title)\n",
    "    plt.axis(\"off\")  # Remove axis for better visualization\n",
    "    plt.show()\n",
    "\n",
    "# Display 4 random training images\n",
    "for _ in range(4):\n",
    "    img = train_images[np.random.randint(len(train_images))]\n",
    "    imshow(img, title=\"Augmented Image\")"
   ]
  },
  {
   "cell_type": "code",
   "execution_count": 22,
   "metadata": {},
   "outputs": [
    {
     "data": {
      "image/png": "[encoded data removed]",
      "text/plain": [
       "<Figure size 640x480 with 1 Axes>"
      ]
     },
     "metadata": {},
     "output_type": "display_data"
    },
    {
     "data": {
      "image/png": "[encoded data removed]",
      "text/plain": [
       "<Figure size 640x480 with 1 Axes>"
      ]
     },
     "metadata": {},
     "output_type": "display_data"
    },
    {
     "data": {
      "image/png": "[encoded data removed]",
      "text/plain": [
       "<Figure size 640x480 with 1 Axes>"
      ]
     },
     "metadata": {},
     "output_type": "display_data"
    },
    {
     "data": {
      "image/png": "[encoded data removed]",
      "text/plain": [
       "<Figure size 640x480 with 1 Axes>"
      ]
     },
     "metadata": {},
     "output_type": "display_data"
    }
   ],
   "source": [
    "# Get some random test images\n",
    "indices = np.random.choice(len(test_images), 4, replace=False)\n",
    "images, labels = test_images[indices], test_labels[indices]\n",
    "\n",
    "# Make predictions\n",
    "predictions = model.predict(images)\n",
    "\n",
    "# Plot images with predictions\n",
    "for i in range(4):\n",
    "    plt.figure()\n",
    "    plt.imshow(images[i].squeeze(), cmap='gray')  # Fix grayscale rendering\n",
    "    plt.title(f\"GroundTruth: {class_names[labels[i]]} \\nPredicted: {class_names[np.argmax(predictions[i])]}\")\n",
    "    plt.axis(\"off\")  # Remove axis for a cleaner look\n",
    "    plt.show()"
   ]
  },
  {
   "cell_type": "markdown",
   "metadata": {},
   "source": [
    "### Questions\n",
    "### Answer the following questions in detail.\n",
    "\n",
    "1. ### What is a Convolutional Neural Network (CNN)? Describe its key components and how they differ from those in a fully connected neural network.\n",
    "Convolutional Neural Network (CNN)\n",
    "A Convolutional Neural Network (CNN) is a specialized type of neural network designed for processing grid-like data, such as images. Unlike fully connected networks, CNNs use convolutional layers to detect spatial hierarchies in data, making them more efficient and effective for tasks like image classification, object detection, and segmentation.\n",
    "\n",
    "Key Components of a CNN:\n",
    "Convolutional Layers\n",
    "Activation Function (ReLU)\n",
    "Pooling Layers\n",
    "Fully Connected (Dense) Layers\n",
    "Dropout (Regularization Technique)\n",
    "Softmax Layer (Output Layer for Classification Tasks)\n",
    "\n",
    "Fully Connected Neural Network (FNN)\n",
    "Uses only fully connected (dense) layers\n",
    "Each neuron has separate weights\n",
    "Learns global patterns (not ideal for images)\n",
    "Large number of parameters, leading to overfitting\n",
    "Structured data, tabular data\n",
    "\n",
    "\n",
    "2. ### Explain the purpose of the convolution operation in a CNN. How does the use of different filter sizes affect the feature maps?\n",
    "   The convolution operation in a Convolutional Neural Network (CNN) is the core mechanism used to extract meaningful patterns from input data, typically images. It replaces traditional fully connected layers with spatially-aware filters, enabling the network to detect features like edges, textures, and more complex structures.\n",
    "\n",
    "   Filter Size\tEffect:\n",
    "1×1\tActs like a pixel-wise transformation (used in bottleneck layers for dimensionality reduction).\n",
    "3×3 (most common)\tCaptures fine-grained local details, like edges and small patterns.\n",
    "5×5\tCaptures slightly larger textures and patterns.\n",
    "7×7 or larger\tDetects broader patterns but increases computational cost.\n",
    "\n",
    "\n",
    "4. ### What is the purpose of a pooling layer in a CNN, and how does it contribute to the network’s performance?\n",
    "    A Pooling Layer in a Convolutional Neural Network (CNN) is used to reduce the spatial dimensions (height & width) of the feature maps while preserving important information. It helps the network become more computationally efficient and robust to variations in the input, such as small shifts or distortions.\n",
    "\n",
    "How Pooling Improves CNN Performance\n",
    "Reduces Computational Load – Fewer parameters and operations → Faster training & inference.\n",
    "Controls Overfitting – By reducing spatial dimensions, it forces the network to focus on important patterns instead of memorizing exact positions.\n",
    "Improves Translation Invariance – Small shifts in the image don’t affect the output significantly, making CNNs more robust.\n",
    "Helps Deep Networks – Allows deeper architectures without excessive computation.\n",
    "\n",
    "6. ### Why are activation functions important in CNNs? Compare the use of ReLU (Rectified Linear Unit) with other activation functions.\n",
    "    Activation functions introduce non-linearity into a Convolutional Neural Network (CNN), allowing it to learn complex patterns beyond simple linear transformations. Without activation functions, a CNN would behave like a simple linear model, regardless of depth, limiting its ability to capture intricate features.\n",
    "\n",
    "Comparison of Activation Functions in CNNs.\n",
    "ReLU (Rectified Linear Unit)\n",
    "How it works: If the input is positive, it stays the same. If it’s negative, it becomes zero.\n",
    "Pros: It prevents the issue of vanishing gradients, is computationally efficient, and helps networks train faster.\n",
    "Cons: Some neurons can \"die\" (always output zero), making them inactive.\n",
    "Where it’s used: This is the most common activation function used in CNN hidden layers.\n",
    "\n",
    "Leaky ReLU\n",
    "How it works: Similar to ReLU, but instead of turning negative values into zero, it keeps them small (by multiplying them with a small constant).\n",
    "Pros: Fixes the \"dying ReLU\" problem by allowing small negative values.\n",
    "Cons: Slightly more complex than regular ReLU and requires tuning a small constant.\n",
    "Where it’s used: Used when standard ReLU leads to inactive neurons.\n",
    "\n",
    "Sigmoid\n",
    "How it works: Converts any input into a value between 0 and 1.\n",
    "Pros: Useful for problems where the output needs to be a probability (binary classification).\n",
    "Cons: Causes vanishing gradients, making training slow and ineffective for deep networks.\n",
    "Where it’s used: Mostly in the final output layer for binary classification tasks (e.g., yes/no predictions).\n",
    "\n",
    "Tanh (Hyperbolic Tangent)\n",
    "How it works: Similar to Sigmoid, but instead of outputting values between 0 and 1, it outputs values between -1 and 1.\n",
    "Pros: Centered around zero, which helps in training compared to Sigmoid.\n",
    "Cons: Still suffers from vanishing gradients, limiting its effectiveness in deep networks.\n",
    "Where it’s used: Mostly in recurrent neural networks (RNNs), not common in CNNs.\n",
    "\n",
    "Softmax\n",
    "How it works: Converts a set of values into probabilities that sum up to 1, making it useful for multi-class classification.\n",
    "Pros: Ensures that the network outputs meaningful probabilities across multiple classes.\n",
    "Cons: Not suitable for hidden layers, only useful in the output layer.\n",
    "Where it’s used: The final layer of CNNs when dealing with multi-class classification problems (e.g., classifying images into categories like \"dog,\" \"cat,\" \"car\").\n",
    "   \n",
    "8. ### Describe the process of training a CNN. What are some common challenges faced during training?\n",
    "    Training a Convolutional Neural Network (CNN) involves several key steps, from preparing the data to optimizing the model’s parameters. Below is a step-by-step breakdown:\n",
    "Data Preprocessing\n",
    "Forward Propagation\n",
    "Compute Loss\n",
    "Backpropagation and Optimization\n",
    "Iterative Training Over Multiple Epochs\n",
    "Evaluate the Model\n",
    "\n",
    "Common Challenges in Training a CNN\n",
    "Overfitting\n",
    "The model memorizes training data but fails on new data.\n",
    "\n",
    "Vanishing Gradients\n",
    "Early layers stop learning because gradients shrink during backpropagation.\n",
    "\n",
    "Exploding Gradients\n",
    "Large weight updates make training unstable.\n",
    "\n",
    "High Computational Cost\n",
    "CNNs require powerful GPUs to process large datasets.\n",
    "\n",
    "Class Imbalance\n",
    "Some classes appear more than others, leading to biased predictions.\n",
    "\n",
    " \n",
    "10. ### What are some common evaluation metrics used to assess the performance of a CNN on a classification task?\n",
    "    Once a Convolutional Neural Network (CNN) is trained, it needs to be evaluated using various performance metrics to determine how well it classifies images. The choice of metrics depends on whether the classification problem is binary (two classes) or multi-class (multiple categories):\n",
    "Accuracy\n",
    "Precision, Recall, and F1-Score\n",
    "Confusion Matrix\n",
    "ROC Curve and AUC (Area Under Curve)\n",
    "Top-K Accuracy (For Multi-Class Classification)\n",
    "Mean Average Precision (mAP)\n",
    "\n",
    "12. ### How does data augmentation help improve the performance of a CNN? Provide examples of common data augmentation techniques.\n",
    "Data augmentation is a technique used to artificially expand a training dataset by applying transformations to the original images. This helps improve the performance of a Convolutional Neural Network (CNN) by making the model more robust and generalizable to unseen data.\n",
    "\n",
    "Common Data Augmentation Techniques\n",
    "Rotation\n",
    "This involves rotating an image by a certain degree, such as turning it slightly to the left or right.\n",
    "This helps the CNN recognize objects even if they appear at different angles, making it more robust to real-world variations.\n",
    "\n",
    "Flipping (Horizontal or Vertical)\n",
    "This mirrors the image either horizontally (left-right) or vertically (top-bottom).\n",
    "It is useful when the orientation of the object does not matter, such as in face recognition or animal classification.\n",
    "\n",
    "Translation (Shifting)\n",
    "This moves the image left, right, up, or down by a small amount.\n",
    "This ensures that the CNN can detect objects even if they are not perfectly centered in the image.\n",
    "\n",
    "Zooming\n",
    "This enlarges or shrinks a part of the image, focusing on a smaller or larger portion of the object.\n",
    "This allows the CNN to recognize objects at different scales, improving its ability to detect both close-up and distant objects.\n",
    "\n",
    "Brightness Adjustment\n",
    "This increases or decreases the brightness of an image, simulating different lighting conditions.\n",
    "This helps the CNN handle variations in lighting, such as shadows or bright sunlight.\n",
    "\n",
    "Contrast Variation\n",
    "This makes some parts of the image darker or lighter to change the contrast between objects and their background.\n",
    "It helps the CNN recognize objects even in low-light or high-exposure conditions.\n",
    "\n",
    "Shearing\n",
    "This tilts or skews the image in one direction, making objects appear slanted.\n",
    "This helps the CNN recognize objects that may be distorted due to perspective changes.\n",
    "\n",
    "dding Noise\n",
    "This introduces small random pixel variations, similar to camera noise or imperfections in real-world images.\n",
    "It makes the CNN more robust to blurry, low-quality, or distorted images.\n",
    "\n",
    "Real-World Applications of Data Augmentation\n",
    "Self-Driving Cars: Simulating different weather conditions (rain, fog) using brightness/contrast changes.\n",
    "Medical Imaging: Flipping and rotating X-rays to improve disease detection accuracy.\n",
    "Facial Recognition: Adding noise and blurring to make the model robust to real-world variations."
   ]
  }
 ],
 "metadata": {
  "kernelspec": {
   "display_name": "Python 3 (ipykernel)",
   "language": "python",
   "name": "python3"
  },
  "language_info": {
   "codemirror_mode": {
    "name": "ipython",
    "version": 3
   },
   "file_extension": ".py",
   "mimetype": "text/x-python",
   "name": "python",
   "nbconvert_exporter": "python",
   "pygments_lexer": "ipython3",
   "version": "3.8.19"
  }
 },
 "nbformat": 4,
 "nbformat_minor": 4
}
